{
 "metadata": {
  "language_info": {
   "codemirror_mode": {
    "name": "ipython",
    "version": 3
   },
   "file_extension": ".py",
   "mimetype": "text/x-python",
   "name": "python",
   "nbconvert_exporter": "python",
   "pygments_lexer": "ipython3",
   "version": "3.8.5"
  },
  "orig_nbformat": 2,
  "kernelspec": {
   "name": "python385jvsc74a57bd0a1684a6cf0ca4c396cfb47f9f7707c258538450586e445cea01225c85f2099f0",
   "display_name": "Python 3.8.5 64-bit ('studying': conda)"
  }
 },
 "nbformat": 4,
 "nbformat_minor": 2,
 "cells": [
  {
   "source": [
    "# Objective: \n",
    "\n",
    "We have to run through all the files inside the folder audios, and then transform it to wav. \n",
    "\n",
    "# Using ffmpeg\n",
    "\n",
    "Our project requires that we transform our `.mp3` audios to `.wav`. \n",
    "\n",
    "To do that, we chose the pydub lib to do the job. But, this library requires a few other things to work properly, one of them is the ffmpeg, a framework to decode, encode, transcode, mux, demux, stream, filter and play different type of files. \n",
    "\n",
    "---\n",
    "\n",
    "## Using it on Windows\n",
    "To install it is quite simple, you just need to [download the library](https://www.gyan.dev/ffmpeg/builds/), extract it somewhere easy to find, and add the `bin` folder to your `path`. \n"
   ],
   "cell_type": "markdown",
   "metadata": {}
  },
  {
   "cell_type": "code",
   "execution_count": 1,
   "metadata": {},
   "outputs": [
    {
     "output_type": "stream",
     "name": "stdout",
     "text": [
      "created folder :  ../wav_audios\n"
     ]
    }
   ],
   "source": [
    "# I didn't manage to find a way to import local_utils, then I decided to add sys.path.insert for now. \n",
    "import sys\n",
    "sys.path.insert(0, '../')\n",
    "\n",
    "from local_utils import folder_utils\n",
    "folder_utils.create_folder_if_doesnt_exist('../wav_audios')"
   ]
  },
  {
   "cell_type": "code",
   "execution_count": 4,
   "metadata": {},
   "outputs": [
    {
     "output_type": "execute_result",
     "data": {
      "text/plain": [
       "<_io.BufferedRandom name='../wav_audios/example-file.wav'>"
      ]
     },
     "metadata": {},
     "execution_count": 4
    }
   ],
   "source": [
    "import os\n",
    "from os import path\n",
    "from pydub import AudioSegment\n",
    "\n",
    "# files                                                                         \n",
    "src = \"example-file.mp3\"\n",
    "dst = \"../wav_audios/example-file.wav\"\n",
    "\n",
    "# convert wav to mp3                                                            \n",
    "sound = AudioSegment.from_mp3(src)\n",
    "sound.export(dst, format=\"wav\")"
   ]
  },
  {
   "cell_type": "code",
   "execution_count": null,
   "metadata": {},
   "outputs": [],
   "source": []
  }
 ]
}