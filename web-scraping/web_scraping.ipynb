{
 "cells": [
  {
   "cell_type": "code",
   "execution_count": 1,
   "metadata": {},
   "outputs": [
    {
     "name": "stderr",
     "output_type": "stream",
     "text": [
      "/home/renan/anaconda3/envs/birds_project/lib/python3.7/site-packages/ipykernel_launcher.py:5: DeprecationWarning: use options instead of chrome_options\n",
      "  \"\"\"\n"
     ]
    }
   ],
   "source": [
    "from selenium import webdriver\n",
    "options = webdriver.ChromeOptions()\n",
    "options.add_argument('headless')\n",
    "options.add_argument('window-size=1920x1080')\n",
    "driver = webdriver.Chrome(chrome_options=options)\n",
    "driver.get(\"https://www.wikiaves.com.br/midias.php?tm=s&t=s&s=11644&o=mp\")"
   ]
  },
  {
   "cell_type": "code",
   "execution_count": 13,
   "metadata": {},
   "outputs": [
    {
     "name": "stdout",
     "output_type": "stream",
     "text": [
      "canário-da-terra (Sicalis flaveola)\n",
      "canário-da-terra\n",
      "Sicalis flaveola\n"
     ]
    }
   ],
   "source": [
    "title = driver.find_element_by_class_name('wa-registros-titulo')\n",
    "complete_name = title.text.strip('Sons de ')\n",
    "popular_name = complete_name.split(' ')[0]\n",
    "cientific_name = complete_name[complete_name.find('(') + 1: complete_name.find(')')] \n",
    "\n",
    "print(complete_name)\n",
    "print(popular_name)\n",
    "print(cientific_name)"
   ]
  },
  {
   "cell_type": "code",
   "execution_count": 2,
   "metadata": {},
   "outputs": [
    {
     "name": "stdout",
     "output_type": "stream",
     "text": [
      "https://s3.amazonaws.com/media.wikiaves.com.br/recordings/221/122476_5ed1d7842d2f179a53091e450aa5dd2f.mp3\n",
      "https://s3.amazonaws.com/media.wikiaves.com.br/recordings/711/117795_94feb667e2aa2af8a4c3aad15f614b22.mp3\n",
      "https://s3.amazonaws.com/media.wikiaves.com.br/recordings/0/118_21cdca17b921697d026df643e4450de5.mp3\n",
      "https://s3.amazonaws.com/media.wikiaves.com.br/recordings/6161/1616738_9f7f0ac1b5b5b53a35961af5645fccfc.mp3\n",
      "https://s3.amazonaws.com/media.wikiaves.com.br/recordings/862/268692_0064696e3b436429f7e8948501ba3b19.mp3\n",
      "https://s3.amazonaws.com/media.wikiaves.com.br/recordings/964/469876_cebda2644515c055536db07ba1c9471d.mp3\n",
      "https://s3.amazonaws.com/media.wikiaves.com.br/recordings/221/122067_8482835e4d554a23caf1d3af7d018b95.mp3\n",
      "https://s3.amazonaws.com/media.wikiaves.com.br/recordings/6251/1526180_6fb60b074d912405cc22dcd7239b7ea4.mp3\n",
      "https://s3.amazonaws.com/media.wikiaves.com.br/recordings/7551/1557991_e80207276cee4daee26ded773e0026f3.mp3\n",
      "https://s3.amazonaws.com/media.wikiaves.com.br/recordings/473/374738_3d5e01934d8159b268c955873f2e3ebd.mp3\n",
      "https://s3.amazonaws.com/media.wikiaves.com.br/recordings/0/144_0631838d7f37627ffaf69671b81cca06.mp3\n",
      "https://s3.amazonaws.com/media.wikiaves.com.br/recordings/605/506958_797c0ee496f1955f0e0291dbf98a67f5.mp3\n",
      "https://s3.amazonaws.com/media.wikiaves.com.br/recordings/511/115156_49e6480be94f01435f80176d6f7ff2e0.mp3\n",
      "https://s3.amazonaws.com/media.wikiaves.com.br/recordings/54/45074_b3be11436f1ea8efe2a302426e43df9f.mp3\n",
      "https://s3.amazonaws.com/media.wikiaves.com.br/recordings/3202/2023069_d869b636ca9903fc12bda25fd1d53b62.mp3\n",
      "https://s3.amazonaws.com/media.wikiaves.com.br/recordings/525/525972_d770423d2c5e15c6ac8af5b5ff790fc8.mp3\n",
      "https://s3.amazonaws.com/media.wikiaves.com.br/recordings/325/523800_4d787e95c394b3f4c7e96adf95a60b95.mp3\n",
      "https://s3.amazonaws.com/media.wikiaves.com.br/recordings/148/841313_338271d47f23a75d62f82bba2e9d2c48.mp3\n",
      "https://s3.amazonaws.com/media.wikiaves.com.br/recordings/215/512319_118e0791ba6a5f9d34838ccf97ed2b4b.mp3\n",
      "https://s3.amazonaws.com/media.wikiaves.com.br/recordings/454/454044_b4e7b2102b2108d5b993ef80a03ceb8a.mp3\n"
     ]
    }
   ],
   "source": [
    "audios = driver.find_elements_by_tag_name('audio')\n",
    "for audio_src in audios:\n",
    "    print(audio_src.get_attribute('src'))"
   ]
  },
  {
   "cell_type": "code",
   "execution_count": 17,
   "metadata": {},
   "outputs": [
    {
     "data": {
      "text/plain": [
       "923304"
      ]
     },
     "execution_count": 17,
     "metadata": {},
     "output_type": "execute_result"
    }
   ],
   "source": [
    "import requests\n",
    "import re\n",
    "\n",
    "def get_filename_from_cd(cd):\n",
    "    \"\"\"\n",
    "    Get filename from content-disposition\n",
    "    \"\"\"\n",
    "    if not cd:\n",
    "        return None\n",
    "    fname = re.findall('filename=(.+)', cd)\n",
    "    if len(fname) == 0:\n",
    "        return None\n",
    "    return fname[0]\n",
    "\n",
    "\n",
    "url = 'https://s3.amazonaws.com/media.wikiaves.com.br/recordings/6161/1616738_9f7f0ac1b5b5b53a35961af5645fccfc.mp3'\n",
    "r = requests.get(url, allow_redirects=True)\n",
    "filename = get_filename_from_cd(r.headers.get('content-disposition'))\n",
    "open('Teste.mp3', 'wb').write(r.content)\n"
   ]
  },
  {
   "cell_type": "code",
   "execution_count": null,
   "metadata": {},
   "outputs": [],
   "source": []
  }
 ],
 "metadata": {
  "kernelspec": {
   "display_name": "Python 3",
   "language": "python",
   "name": "python3"
  },
  "language_info": {
   "codemirror_mode": {
    "name": "ipython",
    "version": 3
   },
   "file_extension": ".py",
   "mimetype": "text/x-python",
   "name": "python",
   "nbconvert_exporter": "python",
   "pygments_lexer": "ipython3",
   "version": "3.7.6"
  }
 },
 "nbformat": 4,
 "nbformat_minor": 4
}
