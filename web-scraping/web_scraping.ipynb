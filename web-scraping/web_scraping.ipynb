{
 "cells": [
  {
   "cell_type": "code",
   "execution_count": 1,
   "metadata": {},
   "outputs": [],
   "source": [
    "import os\n",
    "import requests\n",
    "import re\n",
    "from pathlib import Path"
   ]
  },
  {
   "cell_type": "markdown",
   "metadata": {},
   "source": [
    "To use the selenium and the ChromeDriver, you will have to:\n",
    "\n",
    "- `conda install -c conda-forge selenium`\n",
    "\n",
    "Then you need to download ChromeDriver, install it here: <br>\n",
    "https://sites.google.com/a/chromium.org/chromedriver/downloads\n",
    "\n",
    "Be sure you download the right Chrome version. <br>\n",
    "If you don't know your chrome version, you just need to click at options, help, about chrome and then you will find the right version for you. \n",
    "\n",
    "Once you have the chromedriver downloaded, run thoses lines:\n",
    "\n",
    "```\n",
    "sudo mv chromedriver /usr/bin/chromedriver\n",
    "sudo chown root:root /usr/bin/chromedriver\n",
    "sudo chmod +x /usr/bin/chromedriver\n",
    "```\n",
    "\n",
    "In case you are using a Windows Environment, you need to add the chromedriver to `path`"
   ]
  },
  {
   "cell_type": "code",
   "execution_count": 3,
   "metadata": {},
   "outputs": [],
   "source": [
    "from selenium import webdriver\n",
    "options = webdriver.ChromeOptions()\n",
    "options.add_argument('headless')\n",
    "options.add_argument('window-size=1920x1080')\n",
    "driver = webdriver.Chrome(options=options)\n",
    "driver.get(\"https://www.wikiaves.com.br/midias.php?tm=s&t=s&s=11644&o=mp\")"
   ]
  },
  {
   "cell_type": "code",
   "execution_count": 4,
   "metadata": {},
   "outputs": [
    {
     "output_type": "stream",
     "name": "stdout",
     "text": [
      "canário-da-terra (Sicalis flaveola)\ncanário-da-terra\nSicalis flaveola\n"
     ]
    }
   ],
   "source": [
    "# Testing if selenium is working properly \n",
    "\n",
    "title = driver.find_element_by_class_name('wa-registros-titulo')\n",
    "complete_name = title.text.strip('Sons de ')\n",
    "popular_name = complete_name.split(' ')[0]\n",
    "cientific_name = complete_name[complete_name.find('(') + 1: complete_name.find(')')] \n",
    "\n",
    "print(complete_name)\n",
    "print(popular_name)\n",
    "print(cientific_name)"
   ]
  },
  {
   "cell_type": "code",
   "execution_count": 5,
   "metadata": {},
   "outputs": [],
   "source": [
    "# Testing the download\n",
    "\n",
    "audios = driver.find_elements_by_tag_name('audio')\n",
    "# Verify if the folder exists, if not, it will create it\n",
    "Path(\"audios\").mkdir(parents=True, exist_ok=True)\n",
    "\n",
    "for n, audio_src in enumerate(audios, 0):\n",
    "    url = audio_src.get_attribute('src')\n",
    "    r = requests.get(url, allow_redirects=True)\n",
    "    filename = 'audios/' + popular_name + \"_\" + str(n) + \".mp3\"\n",
    "    open(filename, 'wb').write(r.content)"
   ]
  },
  {
   "source": [
    "# Step 1: \n",
    "Loading the page and preparing to download the birds from Lages's Region"
   ],
   "cell_type": "markdown",
   "metadata": {}
  },
  {
   "cell_type": "code",
   "execution_count": 6,
   "metadata": {},
   "outputs": [],
   "source": [
    "driver.get(\"https://www.wikiaves.com.br/especies.php?t=c&c=4209300&o=5\")\n",
    "table = driver.find_element_by_tag_name('table')"
   ]
  },
  {
   "cell_type": "code",
   "execution_count": 7,
   "metadata": {},
   "outputs": [],
   "source": [
    "table_body = table.find_element_by_tag_name('tbody')\n",
    "table_rows = table_body.find_elements_by_tag_name('tr')"
   ]
  },
  {
   "cell_type": "code",
   "execution_count": 28,
   "metadata": {},
   "outputs": [
    {
     "output_type": "stream",
     "name": "stdout",
     "text": [
      "0 \n1 Threskiornithidae\nTheristicus caudatus curicaca 0 77\n2 \n3 Thraupidae\nSicalis flaveola canário-da-terra 0 56\n4 \n5 Mimidae\nMimus saturninus sabiá-do-campo 0 48\n6 \n7 Falconidae\nMilvago chimachima carrapateiro 0 33\n8 \n9 Strigidae\nAthene cunicularia coruja-buraqueira 0 31\n"
     ]
    }
   ],
   "source": [
    "for num, element in enumerate(table_rows[:10], start=0):\n",
    "    print(num, element.text)"
   ]
  },
  {
   "cell_type": "code",
   "execution_count": 12,
   "metadata": {
    "tags": []
   },
   "outputs": [
    {
     "output_type": "stream",
     "name": "stdout",
     "text": [
      "https://www.wikiaves.com.br/wiki/threskiornithidae\n",
      "https://www.wikiaves.com.br/wiki/threskiornithidae\n",
      "https://www.wikiaves.com.br/wiki/thraupidae\n",
      "https://www.wikiaves.com.br/wiki/thraupidae\n",
      "https://www.wikiaves.com.br/wiki/mimidae\n",
      "https://www.wikiaves.com.br/wiki/mimidae\n",
      "https://www.wikiaves.com.br/wiki/falconidae\n",
      "https://www.wikiaves.com.br/wiki/falconidae\n",
      "https://www.wikiaves.com.br/wiki/strigidae\n",
      "https://www.wikiaves.com.br/wiki/strigidae\n",
      "https://www.wikiaves.com.br/wiki/turdidae\n",
      "https://www.wikiaves.com.br/wiki/turdidae\n",
      "https://www.wikiaves.com.br/wiki/trochilidae\n",
      "https://www.wikiaves.com.br/wiki/trochilidae\n",
      "https://www.wikiaves.com.br/wiki/picidae\n",
      "https://www.wikiaves.com.br/wiki/picidae\n",
      "https://www.wikiaves.com.br/wiki/cracidae\n",
      "https://www.wikiaves.com.br/wiki/cracidae\n",
      "https://www.wikiaves.com.br/wiki/falconidae\n",
      "https://www.wikiaves.com.br/wiki/falconidae\n",
      "https://www.wikiaves.com.br/wiki/thraupidae\n",
      "https://www.wikiaves.com.br/wiki/thraupidae\n",
      "https://www.wikiaves.com.br/wiki/rallidae\n",
      "https://www.wikiaves.com.br/wiki/rallidae\n",
      "https://www.wikiaves.com.br/wiki/charadriidae\n",
      "https://www.wikiaves.com.br/wiki/charadriidae\n",
      "https://www.wikiaves.com.br/wiki/trochilidae\n",
      "https://www.wikiaves.com.br/wiki/trochilidae\n",
      "https://www.wikiaves.com.br/wiki/passerellidae\n",
      "https://www.wikiaves.com.br/wiki/passerellidae\n",
      "https://www.wikiaves.com.br/wiki/ardeidae\n",
      "https://www.wikiaves.com.br/wiki/ardeidae\n",
      "https://www.wikiaves.com.br/wiki/icteridae\n",
      "https://www.wikiaves.com.br/wiki/icteridae\n",
      "https://www.wikiaves.com.br/wiki/thraupidae\n",
      "https://www.wikiaves.com.br/wiki/thraupidae\n",
      "https://www.wikiaves.com.br/wiki/thraupidae\n",
      "https://www.wikiaves.com.br/wiki/thraupidae\n",
      "https://www.wikiaves.com.br/wiki/furnariidae\n",
      "https://www.wikiaves.com.br/wiki/furnariidae\n",
      "https://www.wikiaves.com.br/wiki/tyrannidae\n",
      "https://www.wikiaves.com.br/wiki/tyrannidae\n",
      "https://www.wikiaves.com.br/wiki/tyrannidae\n",
      "https://www.wikiaves.com.br/wiki/tyrannidae\n",
      "https://www.wikiaves.com.br/wiki/cariamidae\n",
      "https://www.wikiaves.com.br/wiki/cariamidae\n",
      "https://www.wikiaves.com.br/wiki/fringillidae\n",
      "https://www.wikiaves.com.br/wiki/fringillidae\n",
      "https://www.wikiaves.com.br/wiki/psittacidae\n",
      "https://www.wikiaves.com.br/wiki/psittacidae\n",
      "https://www.wikiaves.com.br/wiki/anatidae\n",
      "https://www.wikiaves.com.br/wiki/anatidae\n",
      "https://www.wikiaves.com.br/wiki/troglodytidae\n",
      "https://www.wikiaves.com.br/wiki/troglodytidae\n",
      "https://www.wikiaves.com.br/wiki/columbidae\n",
      "https://www.wikiaves.com.br/wiki/columbidae\n",
      "https://www.wikiaves.com.br/wiki/accipitridae\n",
      "https://www.wikiaves.com.br/wiki/accipitridae\n",
      "https://www.wikiaves.com.br/wiki/icteridae\n",
      "https://www.wikiaves.com.br/wiki/icteridae\n",
      "https://www.wikiaves.com.br/wiki/tyrannidae\n",
      "https://www.wikiaves.com.br/wiki/tyrannidae\n",
      "https://www.wikiaves.com.br/wiki/passeridae\n",
      "https://www.wikiaves.com.br/wiki/passeridae\n",
      "https://www.wikiaves.com.br/wiki/icteridae\n",
      "https://www.wikiaves.com.br/wiki/icteridae\n",
      "https://www.wikiaves.com.br/wiki/tyrannidae\n",
      "https://www.wikiaves.com.br/wiki/tyrannidae\n",
      "https://www.wikiaves.com.br/wiki/parulidae\n",
      "https://www.wikiaves.com.br/wiki/parulidae\n",
      "https://www.wikiaves.com.br/wiki/dendrocolaptidae\n",
      "https://www.wikiaves.com.br/wiki/dendrocolaptidae\n",
      "https://www.wikiaves.com.br/wiki/columbidae\n",
      "https://www.wikiaves.com.br/wiki/columbidae\n",
      "https://www.wikiaves.com.br/wiki/accipitridae\n",
      "https://www.wikiaves.com.br/wiki/accipitridae\n",
      "https://www.wikiaves.com.br/wiki/falconidae\n",
      "https://www.wikiaves.com.br/wiki/falconidae\n",
      "https://www.wikiaves.com.br/wiki/falconidae\n",
      "https://www.wikiaves.com.br/wiki/falconidae\n",
      "https://www.wikiaves.com.br/wiki/icteridae\n",
      "https://www.wikiaves.com.br/wiki/icteridae\n",
      "https://www.wikiaves.com.br/wiki/furnariidae\n",
      "https://www.wikiaves.com.br/wiki/furnariidae\n",
      "https://www.wikiaves.com.br/wiki/anatidae\n",
      "https://www.wikiaves.com.br/wiki/anatidae\n",
      "https://www.wikiaves.com.br/wiki/tyrannidae\n",
      "https://www.wikiaves.com.br/wiki/tyrannidae\n",
      "https://www.wikiaves.com.br/wiki/thraupidae\n",
      "https://www.wikiaves.com.br/wiki/thraupidae\n",
      "https://www.wikiaves.com.br/wiki/thraupidae\n",
      "https://www.wikiaves.com.br/wiki/thraupidae\n",
      "https://www.wikiaves.com.br/wiki/turdidae\n",
      "https://www.wikiaves.com.br/wiki/turdidae\n",
      "https://www.wikiaves.com.br/wiki/corvidae\n",
      "https://www.wikiaves.com.br/wiki/corvidae\n",
      "https://www.wikiaves.com.br/wiki/thraupidae\n",
      "https://www.wikiaves.com.br/wiki/thraupidae\n",
      "https://www.wikiaves.com.br/wiki/cuculidae\n",
      "https://www.wikiaves.com.br/wiki/cuculidae\n",
      "https://www.wikiaves.com.br/wiki/tyrannidae\n",
      "https://www.wikiaves.com.br/wiki/tyrannidae\n",
      "https://www.wikiaves.com.br/wiki/anatidae\n",
      "https://www.wikiaves.com.br/wiki/anatidae\n",
      "https://www.wikiaves.com.br/wiki/trochilidae\n",
      "https://www.wikiaves.com.br/wiki/trochilidae\n",
      "https://www.wikiaves.com.br/wiki/jacanidae\n",
      "https://www.wikiaves.com.br/wiki/jacanidae\n",
      "https://www.wikiaves.com.br/wiki/thraupidae\n",
      "https://www.wikiaves.com.br/wiki/thraupidae\n",
      "https://www.wikiaves.com.br/wiki/tyrannidae\n",
      "https://www.wikiaves.com.br/wiki/tyrannidae\n",
      "https://www.wikiaves.com.br/wiki/trochilidae\n",
      "https://www.wikiaves.com.br/wiki/trochilidae\n",
      "https://www.wikiaves.com.br/wiki/icteridae\n",
      "https://www.wikiaves.com.br/wiki/icteridae\n",
      "https://www.wikiaves.com.br/wiki/hirundinidae\n",
      "https://www.wikiaves.com.br/wiki/hirundinidae\n",
      "https://www.wikiaves.com.br/wiki/falconidae\n",
      "https://www.wikiaves.com.br/wiki/falconidae\n",
      "https://www.wikiaves.com.br/wiki/picidae\n",
      "https://www.wikiaves.com.br/wiki/picidae\n",
      "https://www.wikiaves.com.br/wiki/columbidae\n",
      "https://www.wikiaves.com.br/wiki/columbidae\n",
      "https://www.wikiaves.com.br/wiki/ardeidae\n",
      "https://www.wikiaves.com.br/wiki/ardeidae\n",
      "https://www.wikiaves.com.br/wiki/passerellidae\n",
      "https://www.wikiaves.com.br/wiki/passerellidae\n",
      "https://www.wikiaves.com.br/wiki/cathartidae\n",
      "https://www.wikiaves.com.br/wiki/cathartidae\n",
      "https://www.wikiaves.com.br/wiki/psittacidae\n",
      "https://www.wikiaves.com.br/wiki/psittacidae\n",
      "https://www.wikiaves.com.br/wiki/tyrannidae\n",
      "https://www.wikiaves.com.br/wiki/tyrannidae\n",
      "https://www.wikiaves.com.br/wiki/tyrannidae\n",
      "https://www.wikiaves.com.br/wiki/tyrannidae\n",
      "https://www.wikiaves.com.br/wiki/thraupidae\n",
      "https://www.wikiaves.com.br/wiki/thraupidae\n",
      "https://www.wikiaves.com.br/wiki/thraupidae\n",
      "https://www.wikiaves.com.br/wiki/thraupidae\n",
      "https://www.wikiaves.com.br/wiki/thraupidae\n",
      "https://www.wikiaves.com.br/wiki/thraupidae\n",
      "https://www.wikiaves.com.br/wiki/tyrannidae\n",
      "https://www.wikiaves.com.br/wiki/tyrannidae\n",
      "https://www.wikiaves.com.br/wiki/parulidae\n",
      "https://www.wikiaves.com.br/wiki/parulidae\n",
      "https://www.wikiaves.com.br/wiki/tyrannidae\n",
      "https://www.wikiaves.com.br/wiki/tyrannidae\n",
      "https://www.wikiaves.com.br/wiki/furnariidae\n",
      "https://www.wikiaves.com.br/wiki/furnariidae\n",
      "https://www.wikiaves.com.br/wiki/thraupidae\n",
      "https://www.wikiaves.com.br/wiki/thraupidae\n",
      "https://www.wikiaves.com.br/wiki/ciconiidae\n",
      "https://www.wikiaves.com.br/wiki/ciconiidae\n",
      "https://www.wikiaves.com.br/wiki/tyrannidae\n",
      "https://www.wikiaves.com.br/wiki/tyrannidae\n",
      "https://www.wikiaves.com.br/wiki/tyrannidae\n",
      "https://www.wikiaves.com.br/wiki/tyrannidae\n",
      "https://www.wikiaves.com.br/wiki/accipitridae\n",
      "https://www.wikiaves.com.br/wiki/accipitridae\n",
      "https://www.wikiaves.com.br/wiki/furnariidae\n",
      "https://www.wikiaves.com.br/wiki/furnariidae\n"
     ]
    },
    {
     "output_type": "error",
     "ename": "KeyboardInterrupt",
     "evalue": "",
     "traceback": [
      "\u001b[1;31m---------------------------------------------------------------------------\u001b[0m",
      "\u001b[1;31mKeyboardInterrupt\u001b[0m                         Traceback (most recent call last)",
      "\u001b[1;32m<ipython-input-12-90e6db451308>\u001b[0m in \u001b[0;36m<module>\u001b[1;34m\u001b[0m\n\u001b[0;32m      2\u001b[0m     \u001b[0mlink_family\u001b[0m \u001b[1;33m=\u001b[0m \u001b[0mrow\u001b[0m\u001b[1;33m.\u001b[0m\u001b[0mfind_element_by_class_name\u001b[0m\u001b[1;33m(\u001b[0m\u001b[1;34m'font-red'\u001b[0m\u001b[1;33m)\u001b[0m\u001b[1;33m\u001b[0m\u001b[1;33m\u001b[0m\u001b[0m\n\u001b[0;32m      3\u001b[0m     \u001b[1;31m# link = row.find_element_by_tag_name('a')\u001b[0m\u001b[1;33m\u001b[0m\u001b[1;33m\u001b[0m\u001b[1;33m\u001b[0m\u001b[0m\n\u001b[1;32m----> 4\u001b[1;33m     \u001b[0mprint\u001b[0m\u001b[1;33m(\u001b[0m\u001b[0mlink_family\u001b[0m\u001b[1;33m.\u001b[0m\u001b[0mget_attribute\u001b[0m\u001b[1;33m(\u001b[0m\u001b[1;34m'href'\u001b[0m\u001b[1;33m)\u001b[0m\u001b[1;33m)\u001b[0m\u001b[1;33m\u001b[0m\u001b[1;33m\u001b[0m\u001b[0m\n\u001b[0m",
      "\u001b[1;32m~\\anaconda3\\envs\\studying\\lib\\site-packages\\selenium\\webdriver\\remote\\webelement.py\u001b[0m in \u001b[0;36mget_attribute\u001b[1;34m(self, name)\u001b[0m\n\u001b[0;32m    137\u001b[0m         \u001b[0mattributeValue\u001b[0m \u001b[1;33m=\u001b[0m \u001b[1;34m''\u001b[0m\u001b[1;33m\u001b[0m\u001b[1;33m\u001b[0m\u001b[0m\n\u001b[0;32m    138\u001b[0m         \u001b[1;32mif\u001b[0m \u001b[0mself\u001b[0m\u001b[1;33m.\u001b[0m\u001b[0m_w3c\u001b[0m\u001b[1;33m:\u001b[0m\u001b[1;33m\u001b[0m\u001b[1;33m\u001b[0m\u001b[0m\n\u001b[1;32m--> 139\u001b[1;33m             attributeValue = self.parent.execute_script(\n\u001b[0m\u001b[0;32m    140\u001b[0m                 \u001b[1;34m\"return (%s).apply(null, arguments);\"\u001b[0m \u001b[1;33m%\u001b[0m \u001b[0mgetAttribute_js\u001b[0m\u001b[1;33m,\u001b[0m\u001b[1;33m\u001b[0m\u001b[1;33m\u001b[0m\u001b[0m\n\u001b[0;32m    141\u001b[0m                 self, name)\n",
      "\u001b[1;32m~\\anaconda3\\envs\\studying\\lib\\site-packages\\selenium\\webdriver\\remote\\webdriver.py\u001b[0m in \u001b[0;36mexecute_script\u001b[1;34m(self, script, *args)\u001b[0m\n\u001b[0;32m    632\u001b[0m             \u001b[0mcommand\u001b[0m \u001b[1;33m=\u001b[0m \u001b[0mCommand\u001b[0m\u001b[1;33m.\u001b[0m\u001b[0mEXECUTE_SCRIPT\u001b[0m\u001b[1;33m\u001b[0m\u001b[1;33m\u001b[0m\u001b[0m\n\u001b[0;32m    633\u001b[0m \u001b[1;33m\u001b[0m\u001b[0m\n\u001b[1;32m--> 634\u001b[1;33m         return self.execute(command, {\n\u001b[0m\u001b[0;32m    635\u001b[0m             \u001b[1;34m'script'\u001b[0m\u001b[1;33m:\u001b[0m \u001b[0mscript\u001b[0m\u001b[1;33m,\u001b[0m\u001b[1;33m\u001b[0m\u001b[1;33m\u001b[0m\u001b[0m\n\u001b[0;32m    636\u001b[0m             'args': converted_args})['value']\n",
      "\u001b[1;32m~\\anaconda3\\envs\\studying\\lib\\site-packages\\selenium\\webdriver\\remote\\webdriver.py\u001b[0m in \u001b[0;36mexecute\u001b[1;34m(self, driver_command, params)\u001b[0m\n\u001b[0;32m    317\u001b[0m \u001b[1;33m\u001b[0m\u001b[0m\n\u001b[0;32m    318\u001b[0m         \u001b[0mparams\u001b[0m \u001b[1;33m=\u001b[0m \u001b[0mself\u001b[0m\u001b[1;33m.\u001b[0m\u001b[0m_wrap_value\u001b[0m\u001b[1;33m(\u001b[0m\u001b[0mparams\u001b[0m\u001b[1;33m)\u001b[0m\u001b[1;33m\u001b[0m\u001b[1;33m\u001b[0m\u001b[0m\n\u001b[1;32m--> 319\u001b[1;33m         \u001b[0mresponse\u001b[0m \u001b[1;33m=\u001b[0m \u001b[0mself\u001b[0m\u001b[1;33m.\u001b[0m\u001b[0mcommand_executor\u001b[0m\u001b[1;33m.\u001b[0m\u001b[0mexecute\u001b[0m\u001b[1;33m(\u001b[0m\u001b[0mdriver_command\u001b[0m\u001b[1;33m,\u001b[0m \u001b[0mparams\u001b[0m\u001b[1;33m)\u001b[0m\u001b[1;33m\u001b[0m\u001b[1;33m\u001b[0m\u001b[0m\n\u001b[0m\u001b[0;32m    320\u001b[0m         \u001b[1;32mif\u001b[0m \u001b[0mresponse\u001b[0m\u001b[1;33m:\u001b[0m\u001b[1;33m\u001b[0m\u001b[1;33m\u001b[0m\u001b[0m\n\u001b[0;32m    321\u001b[0m             \u001b[0mself\u001b[0m\u001b[1;33m.\u001b[0m\u001b[0merror_handler\u001b[0m\u001b[1;33m.\u001b[0m\u001b[0mcheck_response\u001b[0m\u001b[1;33m(\u001b[0m\u001b[0mresponse\u001b[0m\u001b[1;33m)\u001b[0m\u001b[1;33m\u001b[0m\u001b[1;33m\u001b[0m\u001b[0m\n",
      "\u001b[1;32m~\\anaconda3\\envs\\studying\\lib\\site-packages\\selenium\\webdriver\\remote\\remote_connection.py\u001b[0m in \u001b[0;36mexecute\u001b[1;34m(self, command, params)\u001b[0m\n\u001b[0;32m    372\u001b[0m         \u001b[0mdata\u001b[0m \u001b[1;33m=\u001b[0m \u001b[0mutils\u001b[0m\u001b[1;33m.\u001b[0m\u001b[0mdump_json\u001b[0m\u001b[1;33m(\u001b[0m\u001b[0mparams\u001b[0m\u001b[1;33m)\u001b[0m\u001b[1;33m\u001b[0m\u001b[1;33m\u001b[0m\u001b[0m\n\u001b[0;32m    373\u001b[0m         \u001b[0murl\u001b[0m \u001b[1;33m=\u001b[0m \u001b[1;34m'%s%s'\u001b[0m \u001b[1;33m%\u001b[0m \u001b[1;33m(\u001b[0m\u001b[0mself\u001b[0m\u001b[1;33m.\u001b[0m\u001b[0m_url\u001b[0m\u001b[1;33m,\u001b[0m \u001b[0mpath\u001b[0m\u001b[1;33m)\u001b[0m\u001b[1;33m\u001b[0m\u001b[1;33m\u001b[0m\u001b[0m\n\u001b[1;32m--> 374\u001b[1;33m         \u001b[1;32mreturn\u001b[0m \u001b[0mself\u001b[0m\u001b[1;33m.\u001b[0m\u001b[0m_request\u001b[0m\u001b[1;33m(\u001b[0m\u001b[0mcommand_info\u001b[0m\u001b[1;33m[\u001b[0m\u001b[1;36m0\u001b[0m\u001b[1;33m]\u001b[0m\u001b[1;33m,\u001b[0m \u001b[0murl\u001b[0m\u001b[1;33m,\u001b[0m \u001b[0mbody\u001b[0m\u001b[1;33m=\u001b[0m\u001b[0mdata\u001b[0m\u001b[1;33m)\u001b[0m\u001b[1;33m\u001b[0m\u001b[1;33m\u001b[0m\u001b[0m\n\u001b[0m\u001b[0;32m    375\u001b[0m \u001b[1;33m\u001b[0m\u001b[0m\n\u001b[0;32m    376\u001b[0m     \u001b[1;32mdef\u001b[0m \u001b[0m_request\u001b[0m\u001b[1;33m(\u001b[0m\u001b[0mself\u001b[0m\u001b[1;33m,\u001b[0m \u001b[0mmethod\u001b[0m\u001b[1;33m,\u001b[0m \u001b[0murl\u001b[0m\u001b[1;33m,\u001b[0m \u001b[0mbody\u001b[0m\u001b[1;33m=\u001b[0m\u001b[1;32mNone\u001b[0m\u001b[1;33m)\u001b[0m\u001b[1;33m:\u001b[0m\u001b[1;33m\u001b[0m\u001b[1;33m\u001b[0m\u001b[0m\n",
      "\u001b[1;32m~\\anaconda3\\envs\\studying\\lib\\site-packages\\selenium\\webdriver\\remote\\remote_connection.py\u001b[0m in \u001b[0;36m_request\u001b[1;34m(self, method, url, body)\u001b[0m\n\u001b[0;32m    395\u001b[0m \u001b[1;33m\u001b[0m\u001b[0m\n\u001b[0;32m    396\u001b[0m         \u001b[1;32mif\u001b[0m \u001b[0mself\u001b[0m\u001b[1;33m.\u001b[0m\u001b[0mkeep_alive\u001b[0m\u001b[1;33m:\u001b[0m\u001b[1;33m\u001b[0m\u001b[1;33m\u001b[0m\u001b[0m\n\u001b[1;32m--> 397\u001b[1;33m             \u001b[0mresp\u001b[0m \u001b[1;33m=\u001b[0m \u001b[0mself\u001b[0m\u001b[1;33m.\u001b[0m\u001b[0m_conn\u001b[0m\u001b[1;33m.\u001b[0m\u001b[0mrequest\u001b[0m\u001b[1;33m(\u001b[0m\u001b[0mmethod\u001b[0m\u001b[1;33m,\u001b[0m \u001b[0murl\u001b[0m\u001b[1;33m,\u001b[0m \u001b[0mbody\u001b[0m\u001b[1;33m=\u001b[0m\u001b[0mbody\u001b[0m\u001b[1;33m,\u001b[0m \u001b[0mheaders\u001b[0m\u001b[1;33m=\u001b[0m\u001b[0mheaders\u001b[0m\u001b[1;33m)\u001b[0m\u001b[1;33m\u001b[0m\u001b[1;33m\u001b[0m\u001b[0m\n\u001b[0m\u001b[0;32m    398\u001b[0m \u001b[1;33m\u001b[0m\u001b[0m\n\u001b[0;32m    399\u001b[0m             \u001b[0mstatuscode\u001b[0m \u001b[1;33m=\u001b[0m \u001b[0mresp\u001b[0m\u001b[1;33m.\u001b[0m\u001b[0mstatus\u001b[0m\u001b[1;33m\u001b[0m\u001b[1;33m\u001b[0m\u001b[0m\n",
      "\u001b[1;32m~\\anaconda3\\envs\\studying\\lib\\site-packages\\urllib3\\request.py\u001b[0m in \u001b[0;36mrequest\u001b[1;34m(self, method, url, fields, headers, **urlopen_kw)\u001b[0m\n\u001b[0;32m     76\u001b[0m             )\n\u001b[0;32m     77\u001b[0m         \u001b[1;32melse\u001b[0m\u001b[1;33m:\u001b[0m\u001b[1;33m\u001b[0m\u001b[1;33m\u001b[0m\u001b[0m\n\u001b[1;32m---> 78\u001b[1;33m             return self.request_encode_body(\n\u001b[0m\u001b[0;32m     79\u001b[0m                 \u001b[0mmethod\u001b[0m\u001b[1;33m,\u001b[0m \u001b[0murl\u001b[0m\u001b[1;33m,\u001b[0m \u001b[0mfields\u001b[0m\u001b[1;33m=\u001b[0m\u001b[0mfields\u001b[0m\u001b[1;33m,\u001b[0m \u001b[0mheaders\u001b[0m\u001b[1;33m=\u001b[0m\u001b[0mheaders\u001b[0m\u001b[1;33m,\u001b[0m \u001b[1;33m**\u001b[0m\u001b[0murlopen_kw\u001b[0m\u001b[1;33m\u001b[0m\u001b[1;33m\u001b[0m\u001b[0m\n\u001b[0;32m     80\u001b[0m             )\n",
      "\u001b[1;32m~\\anaconda3\\envs\\studying\\lib\\site-packages\\urllib3\\request.py\u001b[0m in \u001b[0;36mrequest_encode_body\u001b[1;34m(self, method, url, fields, headers, encode_multipart, multipart_boundary, **urlopen_kw)\u001b[0m\n\u001b[0;32m    168\u001b[0m         \u001b[0mextra_kw\u001b[0m\u001b[1;33m.\u001b[0m\u001b[0mupdate\u001b[0m\u001b[1;33m(\u001b[0m\u001b[0murlopen_kw\u001b[0m\u001b[1;33m)\u001b[0m\u001b[1;33m\u001b[0m\u001b[1;33m\u001b[0m\u001b[0m\n\u001b[0;32m    169\u001b[0m \u001b[1;33m\u001b[0m\u001b[0m\n\u001b[1;32m--> 170\u001b[1;33m         \u001b[1;32mreturn\u001b[0m \u001b[0mself\u001b[0m\u001b[1;33m.\u001b[0m\u001b[0murlopen\u001b[0m\u001b[1;33m(\u001b[0m\u001b[0mmethod\u001b[0m\u001b[1;33m,\u001b[0m \u001b[0murl\u001b[0m\u001b[1;33m,\u001b[0m \u001b[1;33m**\u001b[0m\u001b[0mextra_kw\u001b[0m\u001b[1;33m)\u001b[0m\u001b[1;33m\u001b[0m\u001b[1;33m\u001b[0m\u001b[0m\n\u001b[0m",
      "\u001b[1;32m~\\anaconda3\\envs\\studying\\lib\\site-packages\\urllib3\\poolmanager.py\u001b[0m in \u001b[0;36murlopen\u001b[1;34m(self, method, url, redirect, **kw)\u001b[0m\n\u001b[0;32m    373\u001b[0m             \u001b[0mresponse\u001b[0m \u001b[1;33m=\u001b[0m \u001b[0mconn\u001b[0m\u001b[1;33m.\u001b[0m\u001b[0murlopen\u001b[0m\u001b[1;33m(\u001b[0m\u001b[0mmethod\u001b[0m\u001b[1;33m,\u001b[0m \u001b[0murl\u001b[0m\u001b[1;33m,\u001b[0m \u001b[1;33m**\u001b[0m\u001b[0mkw\u001b[0m\u001b[1;33m)\u001b[0m\u001b[1;33m\u001b[0m\u001b[1;33m\u001b[0m\u001b[0m\n\u001b[0;32m    374\u001b[0m         \u001b[1;32melse\u001b[0m\u001b[1;33m:\u001b[0m\u001b[1;33m\u001b[0m\u001b[1;33m\u001b[0m\u001b[0m\n\u001b[1;32m--> 375\u001b[1;33m             \u001b[0mresponse\u001b[0m \u001b[1;33m=\u001b[0m \u001b[0mconn\u001b[0m\u001b[1;33m.\u001b[0m\u001b[0murlopen\u001b[0m\u001b[1;33m(\u001b[0m\u001b[0mmethod\u001b[0m\u001b[1;33m,\u001b[0m \u001b[0mu\u001b[0m\u001b[1;33m.\u001b[0m\u001b[0mrequest_uri\u001b[0m\u001b[1;33m,\u001b[0m \u001b[1;33m**\u001b[0m\u001b[0mkw\u001b[0m\u001b[1;33m)\u001b[0m\u001b[1;33m\u001b[0m\u001b[1;33m\u001b[0m\u001b[0m\n\u001b[0m\u001b[0;32m    376\u001b[0m \u001b[1;33m\u001b[0m\u001b[0m\n\u001b[0;32m    377\u001b[0m         \u001b[0mredirect_location\u001b[0m \u001b[1;33m=\u001b[0m \u001b[0mredirect\u001b[0m \u001b[1;32mand\u001b[0m \u001b[0mresponse\u001b[0m\u001b[1;33m.\u001b[0m\u001b[0mget_redirect_location\u001b[0m\u001b[1;33m(\u001b[0m\u001b[1;33m)\u001b[0m\u001b[1;33m\u001b[0m\u001b[1;33m\u001b[0m\u001b[0m\n",
      "\u001b[1;32m~\\anaconda3\\envs\\studying\\lib\\site-packages\\urllib3\\connectionpool.py\u001b[0m in \u001b[0;36murlopen\u001b[1;34m(self, method, url, body, headers, retries, redirect, assert_same_host, timeout, pool_timeout, release_conn, chunked, body_pos, **response_kw)\u001b[0m\n\u001b[0;32m    697\u001b[0m \u001b[1;33m\u001b[0m\u001b[0m\n\u001b[0;32m    698\u001b[0m             \u001b[1;31m# Make the request on the httplib connection object.\u001b[0m\u001b[1;33m\u001b[0m\u001b[1;33m\u001b[0m\u001b[1;33m\u001b[0m\u001b[0m\n\u001b[1;32m--> 699\u001b[1;33m             httplib_response = self._make_request(\n\u001b[0m\u001b[0;32m    700\u001b[0m                 \u001b[0mconn\u001b[0m\u001b[1;33m,\u001b[0m\u001b[1;33m\u001b[0m\u001b[1;33m\u001b[0m\u001b[0m\n\u001b[0;32m    701\u001b[0m                 \u001b[0mmethod\u001b[0m\u001b[1;33m,\u001b[0m\u001b[1;33m\u001b[0m\u001b[1;33m\u001b[0m\u001b[0m\n",
      "\u001b[1;32m~\\anaconda3\\envs\\studying\\lib\\site-packages\\urllib3\\connectionpool.py\u001b[0m in \u001b[0;36m_make_request\u001b[1;34m(self, conn, method, url, timeout, chunked, **httplib_request_kw)\u001b[0m\n\u001b[0;32m    443\u001b[0m                     \u001b[1;31m# Python 3 (including for exceptions like SystemExit).\u001b[0m\u001b[1;33m\u001b[0m\u001b[1;33m\u001b[0m\u001b[1;33m\u001b[0m\u001b[0m\n\u001b[0;32m    444\u001b[0m                     \u001b[1;31m# Otherwise it looks like a bug in the code.\u001b[0m\u001b[1;33m\u001b[0m\u001b[1;33m\u001b[0m\u001b[1;33m\u001b[0m\u001b[0m\n\u001b[1;32m--> 445\u001b[1;33m                     \u001b[0msix\u001b[0m\u001b[1;33m.\u001b[0m\u001b[0mraise_from\u001b[0m\u001b[1;33m(\u001b[0m\u001b[0me\u001b[0m\u001b[1;33m,\u001b[0m \u001b[1;32mNone\u001b[0m\u001b[1;33m)\u001b[0m\u001b[1;33m\u001b[0m\u001b[1;33m\u001b[0m\u001b[0m\n\u001b[0m\u001b[0;32m    446\u001b[0m         \u001b[1;32mexcept\u001b[0m \u001b[1;33m(\u001b[0m\u001b[0mSocketTimeout\u001b[0m\u001b[1;33m,\u001b[0m \u001b[0mBaseSSLError\u001b[0m\u001b[1;33m,\u001b[0m \u001b[0mSocketError\u001b[0m\u001b[1;33m)\u001b[0m \u001b[1;32mas\u001b[0m \u001b[0me\u001b[0m\u001b[1;33m:\u001b[0m\u001b[1;33m\u001b[0m\u001b[1;33m\u001b[0m\u001b[0m\n\u001b[0;32m    447\u001b[0m             \u001b[0mself\u001b[0m\u001b[1;33m.\u001b[0m\u001b[0m_raise_timeout\u001b[0m\u001b[1;33m(\u001b[0m\u001b[0merr\u001b[0m\u001b[1;33m=\u001b[0m\u001b[0me\u001b[0m\u001b[1;33m,\u001b[0m \u001b[0murl\u001b[0m\u001b[1;33m=\u001b[0m\u001b[0murl\u001b[0m\u001b[1;33m,\u001b[0m \u001b[0mtimeout_value\u001b[0m\u001b[1;33m=\u001b[0m\u001b[0mread_timeout\u001b[0m\u001b[1;33m)\u001b[0m\u001b[1;33m\u001b[0m\u001b[1;33m\u001b[0m\u001b[0m\n",
      "\u001b[1;32m~\\anaconda3\\envs\\studying\\lib\\site-packages\\urllib3\\packages\\six.py\u001b[0m in \u001b[0;36mraise_from\u001b[1;34m(value, from_value)\u001b[0m\n",
      "\u001b[1;32m~\\anaconda3\\envs\\studying\\lib\\site-packages\\urllib3\\connectionpool.py\u001b[0m in \u001b[0;36m_make_request\u001b[1;34m(self, conn, method, url, timeout, chunked, **httplib_request_kw)\u001b[0m\n\u001b[0;32m    438\u001b[0m                 \u001b[1;31m# Python 3\u001b[0m\u001b[1;33m\u001b[0m\u001b[1;33m\u001b[0m\u001b[1;33m\u001b[0m\u001b[0m\n\u001b[0;32m    439\u001b[0m                 \u001b[1;32mtry\u001b[0m\u001b[1;33m:\u001b[0m\u001b[1;33m\u001b[0m\u001b[1;33m\u001b[0m\u001b[0m\n\u001b[1;32m--> 440\u001b[1;33m                     \u001b[0mhttplib_response\u001b[0m \u001b[1;33m=\u001b[0m \u001b[0mconn\u001b[0m\u001b[1;33m.\u001b[0m\u001b[0mgetresponse\u001b[0m\u001b[1;33m(\u001b[0m\u001b[1;33m)\u001b[0m\u001b[1;33m\u001b[0m\u001b[1;33m\u001b[0m\u001b[0m\n\u001b[0m\u001b[0;32m    441\u001b[0m                 \u001b[1;32mexcept\u001b[0m \u001b[0mBaseException\u001b[0m \u001b[1;32mas\u001b[0m \u001b[0me\u001b[0m\u001b[1;33m:\u001b[0m\u001b[1;33m\u001b[0m\u001b[1;33m\u001b[0m\u001b[0m\n\u001b[0;32m    442\u001b[0m                     \u001b[1;31m# Remove the TypeError from the exception chain in\u001b[0m\u001b[1;33m\u001b[0m\u001b[1;33m\u001b[0m\u001b[1;33m\u001b[0m\u001b[0m\n",
      "\u001b[1;32m~\\anaconda3\\envs\\studying\\lib\\http\\client.py\u001b[0m in \u001b[0;36mgetresponse\u001b[1;34m(self)\u001b[0m\n\u001b[0;32m   1345\u001b[0m         \u001b[1;32mtry\u001b[0m\u001b[1;33m:\u001b[0m\u001b[1;33m\u001b[0m\u001b[1;33m\u001b[0m\u001b[0m\n\u001b[0;32m   1346\u001b[0m             \u001b[1;32mtry\u001b[0m\u001b[1;33m:\u001b[0m\u001b[1;33m\u001b[0m\u001b[1;33m\u001b[0m\u001b[0m\n\u001b[1;32m-> 1347\u001b[1;33m                 \u001b[0mresponse\u001b[0m\u001b[1;33m.\u001b[0m\u001b[0mbegin\u001b[0m\u001b[1;33m(\u001b[0m\u001b[1;33m)\u001b[0m\u001b[1;33m\u001b[0m\u001b[1;33m\u001b[0m\u001b[0m\n\u001b[0m\u001b[0;32m   1348\u001b[0m             \u001b[1;32mexcept\u001b[0m \u001b[0mConnectionError\u001b[0m\u001b[1;33m:\u001b[0m\u001b[1;33m\u001b[0m\u001b[1;33m\u001b[0m\u001b[0m\n\u001b[0;32m   1349\u001b[0m                 \u001b[0mself\u001b[0m\u001b[1;33m.\u001b[0m\u001b[0mclose\u001b[0m\u001b[1;33m(\u001b[0m\u001b[1;33m)\u001b[0m\u001b[1;33m\u001b[0m\u001b[1;33m\u001b[0m\u001b[0m\n",
      "\u001b[1;32m~\\anaconda3\\envs\\studying\\lib\\http\\client.py\u001b[0m in \u001b[0;36mbegin\u001b[1;34m(self)\u001b[0m\n\u001b[0;32m    305\u001b[0m         \u001b[1;31m# read until we get a non-100 response\u001b[0m\u001b[1;33m\u001b[0m\u001b[1;33m\u001b[0m\u001b[1;33m\u001b[0m\u001b[0m\n\u001b[0;32m    306\u001b[0m         \u001b[1;32mwhile\u001b[0m \u001b[1;32mTrue\u001b[0m\u001b[1;33m:\u001b[0m\u001b[1;33m\u001b[0m\u001b[1;33m\u001b[0m\u001b[0m\n\u001b[1;32m--> 307\u001b[1;33m             \u001b[0mversion\u001b[0m\u001b[1;33m,\u001b[0m \u001b[0mstatus\u001b[0m\u001b[1;33m,\u001b[0m \u001b[0mreason\u001b[0m \u001b[1;33m=\u001b[0m \u001b[0mself\u001b[0m\u001b[1;33m.\u001b[0m\u001b[0m_read_status\u001b[0m\u001b[1;33m(\u001b[0m\u001b[1;33m)\u001b[0m\u001b[1;33m\u001b[0m\u001b[1;33m\u001b[0m\u001b[0m\n\u001b[0m\u001b[0;32m    308\u001b[0m             \u001b[1;32mif\u001b[0m \u001b[0mstatus\u001b[0m \u001b[1;33m!=\u001b[0m \u001b[0mCONTINUE\u001b[0m\u001b[1;33m:\u001b[0m\u001b[1;33m\u001b[0m\u001b[1;33m\u001b[0m\u001b[0m\n\u001b[0;32m    309\u001b[0m                 \u001b[1;32mbreak\u001b[0m\u001b[1;33m\u001b[0m\u001b[1;33m\u001b[0m\u001b[0m\n",
      "\u001b[1;32m~\\anaconda3\\envs\\studying\\lib\\http\\client.py\u001b[0m in \u001b[0;36m_read_status\u001b[1;34m(self)\u001b[0m\n\u001b[0;32m    266\u001b[0m \u001b[1;33m\u001b[0m\u001b[0m\n\u001b[0;32m    267\u001b[0m     \u001b[1;32mdef\u001b[0m \u001b[0m_read_status\u001b[0m\u001b[1;33m(\u001b[0m\u001b[0mself\u001b[0m\u001b[1;33m)\u001b[0m\u001b[1;33m:\u001b[0m\u001b[1;33m\u001b[0m\u001b[1;33m\u001b[0m\u001b[0m\n\u001b[1;32m--> 268\u001b[1;33m         \u001b[0mline\u001b[0m \u001b[1;33m=\u001b[0m \u001b[0mstr\u001b[0m\u001b[1;33m(\u001b[0m\u001b[0mself\u001b[0m\u001b[1;33m.\u001b[0m\u001b[0mfp\u001b[0m\u001b[1;33m.\u001b[0m\u001b[0mreadline\u001b[0m\u001b[1;33m(\u001b[0m\u001b[0m_MAXLINE\u001b[0m \u001b[1;33m+\u001b[0m \u001b[1;36m1\u001b[0m\u001b[1;33m)\u001b[0m\u001b[1;33m,\u001b[0m \u001b[1;34m\"iso-8859-1\"\u001b[0m\u001b[1;33m)\u001b[0m\u001b[1;33m\u001b[0m\u001b[1;33m\u001b[0m\u001b[0m\n\u001b[0m\u001b[0;32m    269\u001b[0m         \u001b[1;32mif\u001b[0m \u001b[0mlen\u001b[0m\u001b[1;33m(\u001b[0m\u001b[0mline\u001b[0m\u001b[1;33m)\u001b[0m \u001b[1;33m>\u001b[0m \u001b[0m_MAXLINE\u001b[0m\u001b[1;33m:\u001b[0m\u001b[1;33m\u001b[0m\u001b[1;33m\u001b[0m\u001b[0m\n\u001b[0;32m    270\u001b[0m             \u001b[1;32mraise\u001b[0m \u001b[0mLineTooLong\u001b[0m\u001b[1;33m(\u001b[0m\u001b[1;34m\"status line\"\u001b[0m\u001b[1;33m)\u001b[0m\u001b[1;33m\u001b[0m\u001b[1;33m\u001b[0m\u001b[0m\n",
      "\u001b[1;32m~\\anaconda3\\envs\\studying\\lib\\socket.py\u001b[0m in \u001b[0;36mreadinto\u001b[1;34m(self, b)\u001b[0m\n\u001b[0;32m    667\u001b[0m         \u001b[1;32mwhile\u001b[0m \u001b[1;32mTrue\u001b[0m\u001b[1;33m:\u001b[0m\u001b[1;33m\u001b[0m\u001b[1;33m\u001b[0m\u001b[0m\n\u001b[0;32m    668\u001b[0m             \u001b[1;32mtry\u001b[0m\u001b[1;33m:\u001b[0m\u001b[1;33m\u001b[0m\u001b[1;33m\u001b[0m\u001b[0m\n\u001b[1;32m--> 669\u001b[1;33m                 \u001b[1;32mreturn\u001b[0m \u001b[0mself\u001b[0m\u001b[1;33m.\u001b[0m\u001b[0m_sock\u001b[0m\u001b[1;33m.\u001b[0m\u001b[0mrecv_into\u001b[0m\u001b[1;33m(\u001b[0m\u001b[0mb\u001b[0m\u001b[1;33m)\u001b[0m\u001b[1;33m\u001b[0m\u001b[1;33m\u001b[0m\u001b[0m\n\u001b[0m\u001b[0;32m    670\u001b[0m             \u001b[1;32mexcept\u001b[0m \u001b[0mtimeout\u001b[0m\u001b[1;33m:\u001b[0m\u001b[1;33m\u001b[0m\u001b[1;33m\u001b[0m\u001b[0m\n\u001b[0;32m    671\u001b[0m                 \u001b[0mself\u001b[0m\u001b[1;33m.\u001b[0m\u001b[0m_timeout_occurred\u001b[0m \u001b[1;33m=\u001b[0m \u001b[1;32mTrue\u001b[0m\u001b[1;33m\u001b[0m\u001b[1;33m\u001b[0m\u001b[0m\n",
      "\u001b[1;31mKeyboardInterrupt\u001b[0m: "
     ]
    }
   ],
   "source": [
    "for row in table_rows:\n",
    "    link_family = row.find_element_by_class_name('font-red')\n",
    "    # link = row.find_element_by_tag_name('a')\n",
    "    print(link_family.get_attribute('href'))"
   ]
  },
  {
   "cell_type": "code",
   "execution_count": null,
   "metadata": {},
   "outputs": [],
   "source": []
  }
 ],
 "metadata": {
  "kernelspec": {
   "name": "python385jvsc74a57bd0a1684a6cf0ca4c396cfb47f9f7707c258538450586e445cea01225c85f2099f0",
   "display_name": "Python 3.8.5 64-bit ('studying': conda)"
  },
  "language_info": {
   "codemirror_mode": {
    "name": "ipython",
    "version": 3
   },
   "file_extension": ".py",
   "mimetype": "text/x-python",
   "name": "python",
   "nbconvert_exporter": "python",
   "pygments_lexer": "ipython3",
   "version": "3.8.5-final"
  },
  "metadata": {
   "interpreter": {
    "hash": "a1684a6cf0ca4c396cfb47f9f7707c258538450586e445cea01225c85f2099f0"
   }
  }
 },
 "nbformat": 4,
 "nbformat_minor": 4
}