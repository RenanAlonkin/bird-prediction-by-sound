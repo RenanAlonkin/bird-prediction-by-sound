{
 "cells": [
  {
   "cell_type": "code",
   "execution_count": 1,
   "metadata": {},
   "outputs": [],
   "source": [
    "import os\n",
    "import requests\n",
    "import re\n",
    "from pathlib import Path"
   ]
  },
  {
   "cell_type": "markdown",
   "metadata": {},
   "source": [
    "To use the selenium and the ChromeDriver, you will have to:\n",
    "\n",
    "- `conda install -c conda-forge selenium`\n",
    "\n",
    "Then you need to download ChromeDriver, install it here: <br>\n",
    "https://sites.google.com/a/chromium.org/chromedriver/downloads\n",
    "\n",
    "Be sure you download the right Chrome version. <br>\n",
    "If you don't know your chrome version, you just need to click at options, help, about chrome and then you will find the right version for you. \n",
    "\n",
    "Once you have the chromedriver downloaded, run thoses lines:\n",
    "\n",
    "```\n",
    "sudo mv chromedriver /usr/bin/chromedriver\n",
    "sudo chown root:root /usr/bin/chromedriver\n",
    "sudo chmod +x /usr/bin/chromedriver\n",
    "```\n",
    "\n",
    "In case you are using a Windows Environment, you need to add the chromedriver to `path`"
   ]
  },
  {
   "cell_type": "code",
   "execution_count": 2,
   "metadata": {},
   "outputs": [],
   "source": [
    "from selenium import webdriver\n",
    "options = webdriver.ChromeOptions()\n",
    "options.add_argument('headless')\n",
    "options.add_argument('window-size=1920x1080')\n",
    "driver = webdriver.Chrome(options=options)\n",
    "driver.get(\"https://www.wikiaves.com.br/midias.php?tm=s&t=s&s=11644&o=mp\")"
   ]
  },
  {
   "source": [
    "# Test - Downloading the bird's audio:\n",
    "\n",
    "- I've selected a random bird to check how the download can be done"
   ],
   "cell_type": "markdown",
   "metadata": {}
  },
  {
   "cell_type": "code",
   "execution_count": 3,
   "metadata": {},
   "outputs": [
    {
     "output_type": "stream",
     "name": "stdout",
     "text": [
      "canário-da-terra (Sicalis flaveola)\ncanário-da-terra\nSicalis flaveola\n"
     ]
    }
   ],
   "source": [
    "# Testing if selenium is working properly \n",
    "\n",
    "title = driver.find_element_by_class_name('wa-registros-titulo')\n",
    "complete_name = title.text.strip('Sons de ')\n",
    "popular_name = complete_name.split(' ')[0]\n",
    "cientific_name = complete_name[complete_name.find('(') + 1: complete_name.find(')')] \n",
    "\n",
    "print(complete_name)\n",
    "print(popular_name)\n",
    "print(cientific_name)"
   ]
  },
  {
   "cell_type": "code",
   "execution_count": 4,
   "metadata": {},
   "outputs": [],
   "source": [
    "# Testing the download\n",
    "\n",
    "audios = driver.find_elements_by_tag_name('audio')\n",
    "# Verify if the folder exists, if not, it will create it\n",
    "Path(\"audios\").mkdir(parents=True, exist_ok=True)\n",
    "\n",
    "for n, audio_src in enumerate(audios, 0):\n",
    "    url = audio_src.get_attribute('src')\n",
    "    r = requests.get(url, allow_redirects=True)\n",
    "    filename = 'audios/' + popular_name + \"_\" + str(n) + \".mp3\"\n",
    "    open(filename, 'wb').write(r.content)"
   ]
  },
  {
   "source": [
    "# Test - Getting the link to the bird page based on a region: \n",
    "\n",
    "- The following link has a search to show only the birds in the Lages - SC (BR) region"
   ],
   "cell_type": "markdown",
   "metadata": {}
  },
  {
   "cell_type": "code",
   "execution_count": 81,
   "metadata": {},
   "outputs": [],
   "source": [
    "driver.get(\"https://www.wikiaves.com.br/especies.php?t=c&c=4209300&o=5\")\n",
    "table = driver.find_element_by_tag_name('table')"
   ]
  },
  {
   "cell_type": "code",
   "execution_count": 82,
   "metadata": {},
   "outputs": [],
   "source": [
    "table_body = table.find_element_by_tag_name('tbody')\n",
    "table_rows = table_body.find_elements_by_tag_name('tr')"
   ]
  },
  {
   "cell_type": "code",
   "execution_count": 122,
   "metadata": {
    "tags": []
   },
   "outputs": [
    {
     "output_type": "stream",
     "name": "stdout",
     "text": [
      "https://www.wikiaves.com.br/wiki/curicaca\nhttps://www.wikiaves.com.br/wiki/canario-da-terra\nhttps://www.wikiaves.com.br/wiki/sabia-do-campo\nhttps://www.wikiaves.com.br/wiki/carrapateiro\nhttps://www.wikiaves.com.br/wiki/coruja-buraqueira\n"
     ]
    }
   ],
   "source": [
    "# Checking the the elements in the table\n",
    "for row_n, tr in enumerate(table_rows[:10], start= 1):\n",
    "    for td_n, td in enumerate(tr.find_elements_by_tag_name('a'), start= 1):\n",
    "        if(td.get_attribute(\"class\") == \"font-green-dark\"):\n",
    "            print(td.get_attribute('href'))"
   ]
  },
  {
   "source": [
    "**As we can see, links can repeat multiple time, so we will have to save it as a set, so we don't have repeated links**"
   ],
   "cell_type": "markdown",
   "metadata": {}
  },
  {
   "cell_type": "code",
   "execution_count": 125,
   "metadata": {},
   "outputs": [
    {
     "output_type": "stream",
     "name": "stdout",
     "text": [
      "First 10 links of our search:\n ['https://www.wikiaves.com.br/wiki/canario-da-terra', 'https://www.wikiaves.com.br/wiki/arredio-do-gravata', 'https://www.wikiaves.com.br/wiki/avoante', 'https://www.wikiaves.com.br/wiki/choca-da-mata', 'https://www.wikiaves.com.br/wiki/pica-pau-de-banda-branca', 'https://www.wikiaves.com.br/wiki/tacha', 'https://www.wikiaves.com.br/wiki/bacurau-tesoura', 'https://www.wikiaves.com.br/wiki/jacuacu', 'https://www.wikiaves.com.br/wiki/sanhacu-de-fogo', 'https://www.wikiaves.com.br/wiki/maria-preta-de-bico-azulado']\n"
     ]
    }
   ],
   "source": [
    "# Creates a set, so links will not repeat\n",
    "bird_page_set = set([])\n",
    "\n",
    "# Checking the the elements in the table\n",
    "for row_n, tr in enumerate(table_rows, start= 1):\n",
    "    for td_n, td in enumerate(tr.find_elements_by_tag_name('a'), start= 1):\n",
    "        if(td.get_attribute(\"class\") == \"font-green-dark\"):\n",
    "            bird_page_set.add(td.get_attribute('href'))\n",
    "\n",
    "print(\"First 10 links of our search:\\n\", list(bird_page_set)[:10])"
   ]
  },
  {
   "source": [
    "## Getting into the audio page"
   ],
   "cell_type": "markdown",
   "metadata": {}
  },
  {
   "cell_type": "code",
   "execution_count": 129,
   "metadata": {},
   "outputs": [],
   "source": [
    "driver.get(list(bird_page_set)[0])"
   ]
  },
  {
   "cell_type": "code",
   "execution_count": 130,
   "metadata": {},
   "outputs": [
    {
     "output_type": "execute_result",
     "data": {
      "text/plain": [
       "'https://www.wikiaves.com.br/midias.php?tm=s&t=s&s=11644'"
      ]
     },
     "metadata": {},
     "execution_count": 130
    }
   ],
   "source": [
    "driver.find_element_by_link_text(\"Sons\").get_attribute('href')"
   ]
  },
  {
   "source": [
    "# Doing the real thing\n",
    "\n",
    "Now that we have the list of the links, we can now run the following code to download the audios into the audios folder"
   ],
   "cell_type": "markdown",
   "metadata": {}
  },
  {
   "cell_type": "code",
   "execution_count": 131,
   "metadata": {},
   "outputs": [],
   "source": [
    "links_list = list(bird_page_set)"
   ]
  },
  {
   "cell_type": "code",
   "execution_count": null,
   "metadata": {},
   "outputs": [],
   "source": [
    "for bird_page in list(bird_page_set):\n",
    "    # Opens the bird wiki page\n",
    "    driver.get(bird_page)\n",
    "    # Searches for the link that takes into the bird's audios\n",
    "    audio_page = driver.find_element_by_link_text(\"Sons\").get_attribute('href')\n",
    "    print(audio_page)\n",
    "    # Opens the audio's page\n",
    "    driver.get(audio_page)\n",
    "\n",
    "    title = driver.find_element_by_class_name('wa-registros-titulo')\n",
    "    complete_name = title.text.strip('Sons de ')\n",
    "    popular_name = complete_name.split(' ')[0]\n",
    "\n",
    "    print(popular_name)\n",
    "    # Testing the download\n",
    "\n",
    "    audios = driver.find_elements_by_tag_name('audio')\n",
    "    # Verify if the folder exists, if not, it will create it\n",
    "    Path(\"audios\").mkdir(parents=True, exist_ok=True)\n",
    "\n",
    "    print(\"Downloading audios\")\n",
    "    \n",
    "    for n, audio_src in enumerate(audios, 0):\n",
    "        url = audio_src.get_attribute('src')\n",
    "        r = requests.get(url, allow_redirects=True)\n",
    "        filename = 'audios/' + popular_name + \"_\" + str(n) + \".mp3\"\n",
    "        open(filename, 'wb').write(r.content)"
   ]
  },
  {
   "cell_type": "code",
   "execution_count": null,
   "metadata": {},
   "outputs": [],
   "source": []
  }
 ],
 "metadata": {
  "kernelspec": {
   "name": "python385jvsc74a57bd04f7eac9bd5aa47574e62d9fa588e7cb2722747c8ac40204d0ad0d6073d497861",
   "display_name": "Python 3.8.5 64-bit (conda)"
  },
  "language_info": {
   "codemirror_mode": {
    "name": "ipython",
    "version": 3
   },
   "file_extension": ".py",
   "mimetype": "text/x-python",
   "name": "python",
   "nbconvert_exporter": "python",
   "pygments_lexer": "ipython3",
   "version": "3.8.5-final"
  },
  "metadata": {
   "interpreter": {
    "hash": "a1684a6cf0ca4c396cfb47f9f7707c258538450586e445cea01225c85f2099f0"
   }
  }
 },
 "nbformat": 4,
 "nbformat_minor": 4
}