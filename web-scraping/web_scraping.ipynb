{
 "cells": [
  {
   "cell_type": "code",
   "execution_count": 2,
   "metadata": {},
   "outputs": [],
   "source": [
    "import os\n",
    "import requests\n",
    "import re"
   ]
  },
  {
   "cell_type": "markdown",
   "metadata": {},
   "source": [
    "To use the selenium and the ChromeDriver, you will have to:\n",
    "\n",
    "- `conda install -c conda-forge selenium`\n",
    "\n",
    "Then you need to download ChromeDriver, install it here: <br>\n",
    "https://sites.google.com/a/chromium.org/chromedriver/downloads\n",
    "\n",
    "Be sure you download the right Chrome version. <br>\n",
    "If you don't know your chrome version, you just need to click at options, help, about chrome and then you will find the right version for you. \n",
    "\n",
    "Once you have the chromedriver downloaded, run thoses lines:\n",
    "\n",
    "```\n",
    "sudo mv chromedriver /usr/bin/chromedriver\n",
    "sudo chown root:root /usr/bin/chromedriver\n",
    "sudo chmod +x /usr/bin/chromedriver\n",
    "```"
   ]
  },
  {
   "cell_type": "code",
   "execution_count": 5,
   "metadata": {},
   "outputs": [
    {
     "name": "stderr",
     "output_type": "stream",
     "text": [
      "/home/alonkin/anaconda3/envs/development/lib/python3.7/site-packages/ipykernel_launcher.py:5: DeprecationWarning: use options instead of chrome_options\n",
      "  \"\"\"\n"
     ]
    }
   ],
   "source": [
    "from selenium import webdriver\n",
    "options = webdriver.ChromeOptions()\n",
    "options.add_argument('headless')\n",
    "options.add_argument('window-size=1920x1080')\n",
    "driver = webdriver.Chrome(chrome_options=options)\n",
    "driver.get(\"https://www.wikiaves.com.br/midias.php?tm=s&t=s&s=11644&o=mp\")"
   ]
  },
  {
   "cell_type": "code",
   "execution_count": 6,
   "metadata": {},
   "outputs": [
    {
     "name": "stdout",
     "output_type": "stream",
     "text": [
      "canário-da-terra (Sicalis flaveola)\n",
      "canário-da-terra\n",
      "Sicalis flaveola\n"
     ]
    }
   ],
   "source": [
    "title = driver.find_element_by_class_name('wa-registros-titulo')\n",
    "complete_name = title.text.strip('Sons de ')\n",
    "popular_name = complete_name.split(' ')[0]\n",
    "cientific_name = complete_name[complete_name.find('(') + 1: complete_name.find(')')] \n",
    "\n",
    "print(complete_name)\n",
    "print(popular_name)\n",
    "print(cientific_name)"
   ]
  },
  {
   "cell_type": "code",
   "execution_count": 16,
   "metadata": {},
   "outputs": [],
   "source": [
    "audios = driver.find_elements_by_tag_name('audio')\n",
    "for n, audio_src in enumerate(audios, 0):\n",
    "    url = audio_src.get_attribute('src')\n",
    "    r = requests.get(url, allow_redirects=True)\n",
    "    filename = 'audios/' + popular_name + \"_\" + str(n) + \".mp3\"\n",
    "    open(filename, 'wb').write(r.content)"
   ]
  }
 ],
 "metadata": {
  "kernelspec": {
   "display_name": "Python 3",
   "language": "python",
   "name": "python3"
  },
  "language_info": {
   "codemirror_mode": {
    "name": "ipython",
    "version": 3
   },
   "file_extension": ".py",
   "mimetype": "text/x-python",
   "name": "python",
   "nbconvert_exporter": "python",
   "pygments_lexer": "ipython3",
   "version": "3.7.6"
  }
 },
 "nbformat": 4,
 "nbformat_minor": 4
}
